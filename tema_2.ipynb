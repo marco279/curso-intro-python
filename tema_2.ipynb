{
 "cells": [
  {
   "cell_type": "markdown",
   "metadata": {
    "slideshow": {
     "slide_type": "slide"
    },
    "tags": []
   },
   "source": [
    "<font size=6>\n",
    "\n",
    "<b>Curso de Programación en Python</b>\n",
    "</font>\n",
    "\n",
    "<font size=4>\n",
    "    \n",
    "Curso de formación interna, CIEMAT. <br/>\n",
    "Madrid, marzo de 2023\n",
    "\n",
    "Antonio Delgado Peris\n",
    "</font>\n",
    "\n",
    "https://github.com/andelpe/curso-intro-python/\n",
    "\n",
    "<br/>"
   ]
  },
  {
   "cell_type": "markdown",
   "metadata": {},
   "source": [
    "# Tema 2 - Sentencias, objetos, tipos y variables"
   ]
  },
  {
   "cell_type": "markdown",
   "metadata": {},
   "source": [
    "## Objetivos\n",
    "\n",
    "- Conocer cómo funcionan los objetos y las variables en python\n",
    "- Introducir las expresions y sentencias en Python\n",
    "  - Conocer la sentencia de asignación `=`\n",
    "  - Conocer la sentencia de control de flujo `if`\n",
    "- Introducir los tipos de datos incorporados en python\n",
    "  - Muchos problemas pueden resolverse con ellos, sin necesidad de crear nuevas _clases_\n",
    "  - Conocer los tipos numéricos, los _boolean_, y el valor `None`"
   ]
  },
  {
   "cell_type": "markdown",
   "metadata": {},
   "source": [
    "## Objetos de datos y atributos\n",
    "\n",
    "En python cualquier _dato_ (o _valor_) es un objeto:    \n",
    "- Números, listas, funciones, clases...\n",
    "\n",
    "Los objetos tienen atributos (miembros):\n",
    "- **Datos**: Información útil para el objeto\n",
    "- **Métodos** (funciones): Operaciones sobre el propio objeto\n",
    "\n",
    "![objeto](images/t2_objeto.png)\n",
    "\n",
    "Los atributos son accesibles con la notación `objeto.atributo`\n",
    "\n",
    "Existen dos modos de que un objeto sea usado en una función:"
   ]
  },
  {
   "cell_type": "markdown",
   "metadata": {},
   "source": [
    "- Pasándolo como argumento explícito:"
   ]
  },
  {
   "cell_type": "code",
   "execution_count": null,
   "metadata": {},
   "outputs": [],
   "source": [
    "a = -3\n",
    "abs(a)"
   ]
  },
  {
   "cell_type": "markdown",
   "metadata": {},
   "source": [
    "- Llamando a uno de sus métodos:"
   ]
  },
  {
   "cell_type": "code",
   "execution_count": null,
   "metadata": {},
   "outputs": [],
   "source": [
    "a = 'example'\n",
    "a.upper()"
   ]
  },
  {
   "cell_type": "markdown",
   "metadata": {},
   "source": [
    "Otro ejemplo de objeto:\n",
    "\n",
    "- `1 + 3j` es un número complejo, que tiene atributos métodos y dato\n",
    "\n",
    "![complex](images/t2_complex.png)\n"
   ]
  },
  {
   "cell_type": "code",
   "execution_count": null,
   "metadata": {},
   "outputs": [],
   "source": [
    "a = 1 + 3j       # objeto\n",
    "a.imag           # atributo dato"
   ]
  },
  {
   "cell_type": "code",
   "execution_count": null,
   "metadata": {},
   "outputs": [],
   "source": [
    "a.conjugate()    # atributo método"
   ]
  },
  {
   "cell_type": "markdown",
   "metadata": {},
   "source": [
    "Podemos inspeccionar los atributos de un objeto de varias maneras:\n",
    "- Funciones de introspección: `dir`, `help`\n",
    "- Ayudas del interpréte/IDE/entorno: `TAB`, `SHIFT+TAB`, `magic ?`\n",
    "- Documentación"
   ]
  },
  {
   "cell_type": "code",
   "execution_count": null,
   "metadata": {
    "scrolled": true
   },
   "outputs": [],
   "source": [
    "dir(a)"
   ]
  },
  {
   "cell_type": "code",
   "execution_count": null,
   "metadata": {
    "scrolled": true
   },
   "outputs": [],
   "source": [
    "help(a)"
   ]
  },
  {
   "cell_type": "code",
   "execution_count": null,
   "metadata": {},
   "outputs": [],
   "source": [
    "a"
   ]
  },
  {
   "cell_type": "markdown",
   "metadata": {},
   "source": [
    "<div style=\"background-color:powderblue;\">\n",
    "\n",
    "**EJERCICIO e2_1**: Crear una nueva celda de código, escribir `a.`, y después probar `TAB`, y `SHIFT+TAB`."
   ]
  },
  {
   "cell_type": "markdown",
   "metadata": {},
   "source": [
    "## Tipos y variables\n",
    "\n",
    "Todo objeto de datos tiene un tipo asociado."
   ]
  },
  {
   "cell_type": "code",
   "execution_count": null,
   "metadata": {},
   "outputs": [],
   "source": [
    "type(3)"
   ]
  },
  {
   "cell_type": "code",
   "execution_count": null,
   "metadata": {},
   "outputs": [],
   "source": [
    "type('3')"
   ]
  },
  {
   "cell_type": "markdown",
   "metadata": {},
   "source": [
    "- En general, no hay conversión de tipos automático (solo en casos concretos)."
   ]
  },
  {
   "cell_type": "code",
   "execution_count": null,
   "metadata": {},
   "outputs": [],
   "source": [
    "3 + '3'"
   ]
  },
  {
   "cell_type": "markdown",
   "metadata": {},
   "source": [
    "- Los operadores varían de función según el tipo de datos sobre el que actúan."
   ]
  },
  {
   "cell_type": "code",
   "execution_count": null,
   "metadata": {},
   "outputs": [],
   "source": [
    "3 + int('3')"
   ]
  },
  {
   "cell_type": "code",
   "execution_count": null,
   "metadata": {},
   "outputs": [],
   "source": [
    "str(3) + '3'"
   ]
  },
  {
   "cell_type": "markdown",
   "metadata": {},
   "source": [
    "Una variable _referencia_ un objeto de datos\n",
    "- Cuando se usa una variable, se usa el objeto referenciado"
   ]
  },
  {
   "cell_type": "code",
   "execution_count": null,
   "metadata": {},
   "outputs": [],
   "source": [
    "a = 3\n",
    "a + 2"
   ]
  },
  {
   "cell_type": "markdown",
   "metadata": {},
   "source": [
    "- Las variables NO tienen un tipo asociado\n",
    "  - No se declaran (no se les asigna un tipo)\n",
    "  - _Parecen_ tener el tipo del objeto al que referencian\n",
    "  \n",
    "Ejemplo:\n",
    "\n",
    "![var_types_1](images/t2_var_types_1.png)\n"
   ]
  },
  {
   "cell_type": "code",
   "execution_count": null,
   "metadata": {},
   "outputs": [],
   "source": [
    "a = 2\n",
    "a + '3'"
   ]
  },
  {
   "cell_type": "markdown",
   "metadata": {},
   "source": [
    "Ahora cambiamos el objeto al que apunta `a` (la _misma_ variable)\n",
    "\n",
    "![var_types_2](images/t2_var_types_2.png)\n"
   ]
  },
  {
   "cell_type": "code",
   "execution_count": null,
   "metadata": {},
   "outputs": [],
   "source": [
    "a = '2'\n",
    "a + '3'"
   ]
  },
  {
   "cell_type": "markdown",
   "metadata": {},
   "source": [
    "## Expresiones y sentencias\n",
    "\n",
    "Una _expresión_ es una porción de código que se evalúa a un valor.\n",
    "\n",
    " - Una expresión simple es una constante (numérica o string), o una variable: `3`, `'a'`, `var`\n",
    " - Las expresiones se relacionan por medio de operadores, creando expresiones más complejas: `3 + 2`,  `['a', 'b']`, `mi_funcion(var)`\n",
    " \n",
    "Una _sentencia_ es una instrucción que python puede interpretar (ejecutar)\n",
    "\n",
    "- Las expresiones forman parte de sentencias\n",
    "- Existen sentencias simples y compuestas (involucrando varias sentencias simples)"
   ]
  },
  {
   "cell_type": "markdown",
   "metadata": {},
   "source": [
    "### La asignación\n",
    "\n",
    "La _asignación_ es una sentencia simple:\n",
    "\n",
    "  - Enlazan (_bind_) una variable con un valor, o bien modifican una variable (modificable)\n",
    "  - Forma: `variable = expresión`\n",
    "  - La variable _apuntará_ al resultado de evaluar la expresión"
   ]
  },
  {
   "cell_type": "code",
   "execution_count": null,
   "metadata": {},
   "outputs": [],
   "source": [
    "x = 3 + 4\n",
    "print(x)"
   ]
  },
  {
   "cell_type": "markdown",
   "metadata": {},
   "source": [
    "### La sentencia IF\n",
    "\n",
    "Es una sentencia compuesta de control de flujo; es decir, para ejecutar unas instrucciones, u otras, en función de alguna condición.\n",
    "\n",
    "Su forma más básica es:\n",
    "\n",
    "```python\n",
    "    if <condicion>:  sentencia\n",
    "```\n",
    "\n",
    "O bien:\n",
    "\n",
    "```python\n",
    "    if <condicion>:\n",
    "        sentencia\n",
    "        ...\n",
    "```\n",
    "\n",
    "Más generalmente, para especificar alternativas:\n",
    "\n",
    "```python\n",
    "    if <condicion>:\n",
    "        do something\n",
    "        \n",
    "    elif <otra condicion>:\n",
    "        do something else  \n",
    "    ...\n",
    "    \n",
    "    else:\n",
    "        do this if nothing above matched\n",
    "```\n",
    "\n",
    "Lo anterior es equivalente a:\n",
    "```python\n",
    "    if <condicion>:\n",
    "        do something\n",
    "        \n",
    "    else:\n",
    "        \n",
    "        if <otra condicion>:\n",
    "            do something else  \n",
    "        ...\n",
    "    \n",
    "        else:\n",
    "            do this if nothing above matched\n",
    "```"
   ]
  },
  {
   "cell_type": "code",
   "execution_count": null,
   "metadata": {},
   "outputs": [],
   "source": [
    "if 2 == 3:\n",
    "    print('2 es 3')\n",
    "else:\n",
    "    print('No! 2 no es 3')"
   ]
  },
  {
   "cell_type": "markdown",
   "metadata": {},
   "source": [
    "## Tipos de datos incorporados (_built-in_)\n",
    "\n",
    "Son tipos de datos disponibles de inicio\n",
    "\n",
    "- Suelen ser más eficientes que los definidos por los usuarios\n",
    "- Extensibles (por nuevas _clases_)\n",
    "\n",
    "Estos tipos son (entre otros):\n",
    "\n",
    "- Números: `int`, `float`, `complex`\n",
    "- Booleans: `False`, `True`\n",
    "- Nulo: `None`\n",
    "- Strings (`str`): `\"abcdef\"`\n",
    "- Secuencias (listas, tuplas, sets...): `[0, 'a', 2]`\n",
    "- Diccionarios (mapas): `{‘a’: 1, ‘b’: 3}`\n",
    "- Otros: secuencias binarias (_bytes_), ficheros, clases, módulos, funciones, tipos..."
   ]
  },
  {
   "cell_type": "markdown",
   "metadata": {},
   "source": [
    "### Números\n",
    "\n",
    "Funcionan como en otros lenguajes\n",
    "\n",
    "- Enteros: `int`\n",
    "- Decimal: `float`\n",
    "- Complejos: `complex`"
   ]
  },
  {
   "cell_type": "code",
   "execution_count": null,
   "metadata": {},
   "outputs": [],
   "source": [
    "print(type(3))\n",
    "print(type(2.0))\n",
    "print(type(2+5j))"
   ]
  },
  {
   "cell_type": "markdown",
   "metadata": {},
   "source": [
    "<div style=\"background-color:powderblue;\">\n",
    "\n",
    "**EJERCICIO e2_2**: Inspeccionar las operaciones soportadas por el tipo `complex`. Crear un objeto complejo y mostrar su parte imaginaria."
   ]
  },
  {
   "cell_type": "code",
   "execution_count": null,
   "metadata": {},
   "outputs": [],
   "source": [
    "#"
   ]
  },
  {
   "cell_type": "markdown",
   "metadata": {},
   "source": [
    "Entre ellos sí hay conversión automática de tipos"
   ]
  },
  {
   "cell_type": "code",
   "execution_count": null,
   "metadata": {},
   "outputs": [],
   "source": [
    "a = 2\n",
    "b = 3.5\n",
    "a + b"
   ]
  },
  {
   "cell_type": "markdown",
   "metadata": {},
   "source": [
    "Soportan las operaciones habituales:\n",
    "\n",
    "- Entre otras: `+   -  *  /  %  abs()  **  //`"
   ]
  },
  {
   "cell_type": "code",
   "execution_count": null,
   "metadata": {},
   "outputs": [],
   "source": [
    "a = 5\n",
    "b = 2\n",
    "print(' a / b -->', a/b)\n",
    "print('a // b -->', a//b)\n",
    "print(' a % b -->', a%b)"
   ]
  },
  {
   "cell_type": "markdown",
   "metadata": {},
   "source": [
    "Algunos números _especiales_:"
   ]
  },
  {
   "cell_type": "code",
   "execution_count": null,
   "metadata": {},
   "outputs": [],
   "source": [
    "float('inf'), float('-inf'), float('nan'), float('-nan')"
   ]
  },
  {
   "cell_type": "markdown",
   "metadata": {},
   "source": [
    "Otros módulos ofrecen muchas más..."
   ]
  },
  {
   "cell_type": "code",
   "execution_count": null,
   "metadata": {},
   "outputs": [],
   "source": [
    "import math\n",
    "print(math.exp(3))\n",
    "math.exp"
   ]
  },
  {
   "cell_type": "markdown",
   "metadata": {},
   "source": [
    "### Booleans y None\n",
    "\n",
    "Los `booleans` solo incluyen a dos valores: las contantes predefinidas: `True` y `False`.\n",
    "\n",
    "Estos dos valores pueden ser el resultado de evaluar:\n",
    "    \n",
    "- Las propias contantes en un programa: `True` y `False`\n",
    "- Una operación lógica: `or`, `and`, `not`\n",
    "- Una comparación: `<`, `<=`, `>`, `>=`, `==`, `!=`, `is`, `is not`\n",
    "- Evaluación de cualquier objeto python\n",
    "  - Por defecto, la evaluación es a `True`\n",
    "  - Excepto: `False`, `None`, `0`, secuencias vacías, objetos con un método especial `__bool__` que devuelva `False`"
   ]
  },
  {
   "cell_type": "markdown",
   "metadata": {},
   "source": [
    "`None` es el único valor del tipo `NoneType`\n",
    "\n",
    "- Se suele usar cuando se quiere indicar que no hay ningún valor _real_ adecuado.\n",
    "- Se evalúa a `False` (aunuque no _es_ `False`)"
   ]
  },
  {
   "cell_type": "code",
   "execution_count": null,
   "metadata": {},
   "outputs": [],
   "source": [
    "if 4 == 4: print('4==4', '\\t-->  Verdadero')\n",
    "else:      print('4==4', '\\t-->  Falso')\n",
    "    \n",
    "if 4 == 5: print('4==5', '\\t-->  Verdadero')\n",
    "else:      print('4==5', '\\t-->  Falso')"
   ]
  },
  {
   "cell_type": "markdown",
   "metadata": {},
   "source": [
    "<div style=\"background-color:powderblue;\">\n",
    "\n",
    "**EJERCICIO e2_3:** Probar lo mismo con `4 != 5`, `3 < 2`, `2 >= 2`"
   ]
  },
  {
   "cell_type": "code",
   "execution_count": null,
   "metadata": {},
   "outputs": [],
   "source": [
    "if True:  print(True, '\\t-->  Verdadero')\n",
    "else:     print(True, '\\t-->  Falso')\n",
    "    \n",
    "if False: print(False, '\\t-->  Verdadero')\n",
    "else:     print(False, '\\t-->  Falso')\n",
    "    \n",
    "if None:  print(None, '\\t-->  Verdadero')\n",
    "else:     print(None, '\\t-->  Falso')"
   ]
  },
  {
   "cell_type": "code",
   "execution_count": null,
   "metadata": {},
   "outputs": [],
   "source": [
    "if 5:  print(5, '\\t-->  Verdadero')\n",
    "else:  print(5, '\\t-->  Falso')\n",
    "    \n",
    "if 0:  print(0, '\\t-->  Verdadero')\n",
    "else:  print(0, '\\t-->  Falso')"
   ]
  },
  {
   "cell_type": "markdown",
   "metadata": {},
   "source": [
    "<div style=\"background-color:powderblue;\">\n",
    "\n",
    "**EJERCICIO e2_4:** Probar lo mismo con `'a'` y `''` (suponiendo antes qué va a pasar)"
   ]
  },
  {
   "cell_type": "code",
   "execution_count": null,
   "metadata": {},
   "outputs": [],
   "source": [
    "if [4, 6]: print([4, 6], '\\t-->  Verdadero')\n",
    "else:      print([0], '\\t-->  Falso')\n",
    "    \n",
    "if []:  print([], '\\t-->  Verdadero')\n",
    "else:   print([], '\\t-->  Falso')"
   ]
  },
  {
   "cell_type": "markdown",
   "metadata": {},
   "source": [
    "<div style=\"background-color:powderblue;\">\n",
    "\n",
    "**EJERCICIO e2_5:** Probar lo mismo con `[0]`  (suponiendo antes qué va a pasar)"
   ]
  },
  {
   "cell_type": "markdown",
   "metadata": {},
   "source": [
    "Aunque `None` se evalúe a `False`, no _es_ `False`"
   ]
  },
  {
   "cell_type": "code",
   "execution_count": null,
   "metadata": {},
   "outputs": [],
   "source": [
    "a = None\n",
    "\n",
    "if a:  print(\"Objeto 'a' evalúa a True\")\n",
    "else:  print(\"Objeto 'a' evalúa a False\")\n",
    "    \n",
    "if a == False:  print(\"Objeto 'a' es False\")\n",
    "    \n",
    "if a == None:  print(\"Objeto 'a' es None\")"
   ]
  },
  {
   "cell_type": "markdown",
   "metadata": {},
   "source": [
    "<br><div style=\"background-color:powderblue;\">\n",
    "\n",
    "**EJERCICIO e2_6:** Escribir una sentencia IF, que compruebe una variable numérica `x`.\n",
    "\n",
    "- Si `x` es 0, mostrará el string \"ZERO\".\n",
    "- Si `x` es positiva, menor o igual a 10, mostrará el valor de `x`\n",
    "- Si `x` es positiva, mayor que 10, mostrará \"HIGH\"\n",
    "- Si `x` es negativa, mostrará \"NEGATIVE\"\n",
    "\n",
    "Probarlo para varios valores de `x`, incluido 10."
   ]
  },
  {
   "cell_type": "markdown",
   "metadata": {},
   "source": [
    "## Referencias compartidas\n",
    "\n",
    "- Es importante distinguir entre variables y objetos\n",
    "\n",
    "Ejemplo:"
   ]
  },
  {
   "cell_type": "code",
   "execution_count": null,
   "metadata": {},
   "outputs": [],
   "source": [
    "a = [0, 1]  # Objeto lista, con dos elementos 0 y 1\n",
    "b = a       # La variable 'b' apunta al objeto apuntado por 'a'"
   ]
  },
  {
   "cell_type": "markdown",
   "metadata": {},
   "source": [
    "![t2_refs_1](images/t2_refs_1.png)\n",
    "\n",
    "Podemos usar los operadores `==` y `is`:\n",
    "- `==`: Compara el _valor_ de los operandos\n",
    "- `is`: Compara la _identidad_, es decir, si los dos operandos son el mismo objeto en memoria"
   ]
  },
  {
   "cell_type": "code",
   "execution_count": null,
   "metadata": {},
   "outputs": [],
   "source": [
    "a == b, a is b"
   ]
  },
  {
   "cell_type": "code",
   "execution_count": null,
   "metadata": {},
   "outputs": [],
   "source": [
    "b[0] = 5  # Modificamos un elemento de 'b'"
   ]
  },
  {
   "cell_type": "markdown",
   "metadata": {},
   "source": [
    "![t2_refs_2](images/t2_refs_2.png)\n"
   ]
  },
  {
   "cell_type": "code",
   "execution_count": null,
   "metadata": {},
   "outputs": [],
   "source": [
    "print(a == b,  a is b)\n",
    "print(a)"
   ]
  },
  {
   "cell_type": "code",
   "execution_count": null,
   "metadata": {},
   "outputs": [],
   "source": [
    "b = [5, 1]"
   ]
  },
  {
   "cell_type": "markdown",
   "metadata": {},
   "source": [
    "![t2_refs_3](images/t2_refs_3.png)\n"
   ]
  },
  {
   "cell_type": "code",
   "execution_count": null,
   "metadata": {},
   "outputs": [],
   "source": [
    "print(a == b,  a is b)\n",
    "print(id(a))\n",
    "print(id(b))"
   ]
  },
  {
   "cell_type": "markdown",
   "metadata": {},
   "source": [
    "- Y distinguir las asignaciones de las copias\n",
    "  - En listas, el operador `[:]` _copia_ todos los elementos"
   ]
  },
  {
   "cell_type": "code",
   "execution_count": null,
   "metadata": {},
   "outputs": [],
   "source": [
    "b = a[:]"
   ]
  },
  {
   "cell_type": "markdown",
   "metadata": {},
   "source": [
    "![t2_refs_4](images/t2_refs_4.png)\n"
   ]
  },
  {
   "cell_type": "code",
   "execution_count": null,
   "metadata": {},
   "outputs": [],
   "source": [
    "a == b,  a is b"
   ]
  },
  {
   "cell_type": "markdown",
   "metadata": {},
   "source": [
    "## Gestión de memoria\n",
    "\n",
    "La gestión de memoria es realizada por python automáticamente\n",
    "- Menos eficiente, pero mucho más sencillo y menos propenso a errores que los sistemas de gestión explícita\n",
    "\n",
    "Cuando el número de referencias a un objeto llega a 0, el objeto es eliminado\n",
    "- Las referencias pueden eliminarse por _scope_ (dejan de ser _visibles_)...\n",
    "- ... o con la instrucción `del` (infrecuente)"
   ]
  },
  {
   "cell_type": "code",
   "execution_count": null,
   "metadata": {},
   "outputs": [],
   "source": [
    "a = 5\n",
    "del(a)\n",
    "a"
   ]
  }
 ],
 "metadata": {
  "kernelspec": {
   "display_name": "Python 3 (ipykernel)",
   "language": "python",
   "name": "python3"
  },
  "language_info": {
   "codemirror_mode": {
    "name": "ipython",
    "version": 3
   },
   "file_extension": ".py",
   "mimetype": "text/x-python",
   "name": "python",
   "nbconvert_exporter": "python",
   "pygments_lexer": "ipython3",
   "version": "3.11.2"
  },
  "toc-autonumbering": false,
  "toc-showmarkdowntxt": false,
  "toc-showtags": false
 },
 "nbformat": 4,
 "nbformat_minor": 4
}
