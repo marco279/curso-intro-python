{
 "cells": [
  {
   "cell_type": "markdown",
   "metadata": {
    "slideshow": {
     "slide_type": "slide"
    },
    "tags": []
   },
   "source": [
    "<font size=6>\n",
    "\n",
    "<b>Curso de Programación en Python</b>\n",
    "</font>\n",
    "\n",
    "<font size=4>\n",
    "    \n",
    "Curso de formación interna, CIEMAT. <br/>\n",
    "Madrid, marzo de 2023\n",
    "\n",
    "Antonio Delgado Peris\n",
    "</font>\n",
    "\n",
    "https://github.com/andelpe/curso-intro-python/\n",
    "\n",
    "<br/>"
   ]
  },
  {
   "cell_type": "code",
   "execution_count": null,
   "metadata": {},
   "outputs": [],
   "source": []
  },
  {
   "cell_type": "markdown",
   "metadata": {},
   "source": [
    "# Tema 3 - Iterables y bucles (I): Secuencias"
   ]
  },
  {
   "cell_type": "markdown",
   "metadata": {},
   "source": [
    "## Objetivos\n",
    "\n",
    "- Introducir el concepto de _iterable_ en Python\n",
    "- Conocer cómo funcionan las secuencias en Python\n",
    "  - Son tipos _built-in_, muy eficientes, y útiles\n",
    "- Conocer el bucle `for`"
   ]
  },
  {
   "cell_type": "markdown",
   "metadata": {
    "tags": []
   },
   "source": [
    "## Iterables\n",
    "\n",
    "Un _iterable_ en Python es un objeto que puede recorrerse elemento a elemento.\n",
    "\n",
    "- Ejemplos de iterables son las secuencias (listas, tuplas, etc.), pero también los diccionarios, y otros.\n",
    "\n",
    "Muchas funciones o operadores son capaces de actuar sobre un iterable, no importa qué otras características tenga.\n",
    "\n",
    "- Por ejemplo, la función `len` devuelve la longitud del iterable (cuántos elementos tiene), sea del tipo que sea."
   ]
  },
  {
   "cell_type": "code",
   "execution_count": null,
   "metadata": {},
   "outputs": [],
   "source": [
    "l = ['pedro', 'juan', 'maría'] # 'l' es un iterable de tipo 'list'\n",
    "len(l)"
   ]
  },
  {
   "cell_type": "markdown",
   "metadata": {},
   "source": [
    "Técnicamente, un iterable es un objeto que define el método especial `__iter__()` (que devuelve un objeto _iterador_ (`iterator`).\n",
    "\n",
    "- No nos vamos a ocupar de estos conceptos avanzados ahora, aunque volveremos a ello en un tema posterior."
   ]
  },
  {
   "cell_type": "markdown",
   "metadata": {},
   "source": [
    "## La sentencia FOR\n",
    "\n",
    "La sentencia `for` recorre los elementos de un iterable y ejecuta un conjunto de instrucciones una vez por cada uno de esos elementos.\n",
    "\n",
    "- En cada iteración, el elemento correspondiente está disponible en la variable indicada.\n",
    "\n",
    "Forma general:\n",
    "\n",
    "    for <variable> in <iterable>:\n",
    "        sentencia\n",
    "        sentencia\n",
    "        ...\n",
    "\n",
    "   "
   ]
  },
  {
   "cell_type": "markdown",
   "metadata": {},
   "source": [
    "<div style=\"background-color:powderblue;\">\n",
    "\n",
    "**EJERCICIO e3_1:** Usando `for`, recorrer la lista `l` (definida antes), y mostrar cada elemento en una línea diferente."
   ]
  },
  {
   "cell_type": "code",
   "execution_count": null,
   "metadata": {},
   "outputs": [],
   "source": [
    "# for"
   ]
  },
  {
   "cell_type": "markdown",
   "metadata": {},
   "source": [
    "## Secuencias\n",
    "\n",
    "Las secuencias son contenedores de elementos, iterables, y que permiten acceso aleatorio usando un índice entero (`object[index]`).\n",
    "\n",
    "Los principales tipos de secuencias son:\n",
    "\n",
    "- Tuplas y listas\n",
    "- Ranges\n",
    "- Sets y frozensets\n",
    "- Strings"
   ]
  },
  {
   "cell_type": "markdown",
   "metadata": {},
   "source": [
    "### Tuplas y listas\n",
    "\n",
    "Secuencias ordenadas de cualquier tipo de elementos\n",
    "\n",
    "- Inmutables: tuplas `(x, y...)`\n",
    "- Modificables: listas `[x, y...]`\n",
    "\n",
    "#### Listas"
   ]
  },
  {
   "cell_type": "code",
   "execution_count": null,
   "metadata": {},
   "outputs": [],
   "source": [
    "l1 = [1, 2]   # Create list\n",
    "print(l1[0])\n",
    "l1[0] = 0     # Modify first element\n",
    "print(l1)"
   ]
  },
  {
   "cell_type": "code",
   "execution_count": null,
   "metadata": {},
   "outputs": [],
   "source": [
    "l1.append(4)  # Append an element\n",
    "print(l1)"
   ]
  },
  {
   "cell_type": "code",
   "execution_count": null,
   "metadata": {},
   "outputs": [],
   "source": [
    "print(len(l1))\n",
    "print(max(l1))"
   ]
  },
  {
   "cell_type": "code",
   "execution_count": null,
   "metadata": {},
   "outputs": [],
   "source": [
    "l2 = ['a', l1, 4]\n",
    "print(l2)"
   ]
  },
  {
   "cell_type": "code",
   "execution_count": null,
   "metadata": {},
   "outputs": [],
   "source": [
    "print(l2[1])       # Access element by index\n",
    "print((l2[1])[0])  # Access element of list element\n",
    "print(l2[1][0])"
   ]
  },
  {
   "cell_type": "code",
   "execution_count": null,
   "metadata": {},
   "outputs": [],
   "source": [
    "print(l2[-1])      # Access last element"
   ]
  },
  {
   "cell_type": "code",
   "execution_count": null,
   "metadata": {},
   "outputs": [],
   "source": [
    "print(4 in l2)\n",
    "print(4 not in l2)"
   ]
  },
  {
   "cell_type": "markdown",
   "metadata": {},
   "source": [
    "- El operador `slice` (inicio:fin:paso) devuelve una nueva lista"
   ]
  },
  {
   "cell_type": "code",
   "execution_count": null,
   "metadata": {},
   "outputs": [],
   "source": [
    "print(l2[1:3])   \n",
    "print(l2[:2])"
   ]
  },
  {
   "cell_type": "markdown",
   "metadata": {},
   "source": [
    "<div style=\"background-color:powderblue;\">\n",
    "\n",
    "**EJERCICIO e3_2:** Dada la siguiente lista `lx`...\n",
    "\n",
    "- Buscar (`help`) métodos para:\n",
    "  - Mostrar el índice que ocupa el elemento `'x'`\n",
    "  - Extraer el último elemento de la lista (eliminándolo de la lista)\n",
    "- Usando _slice_, mostrar un elemento de cada dos, empezando por el segundo"
   ]
  },
  {
   "cell_type": "code",
   "execution_count": null,
   "metadata": {},
   "outputs": [],
   "source": [
    "lx = ['a', 0, 1, 2, 'j', 3, 4, 'x', 5, 6, 7, 8, 'z']\n",
    "#"
   ]
  },
  {
   "cell_type": "markdown",
   "metadata": {},
   "source": [
    "- Otras operaciones con listas:"
   ]
  },
  {
   "cell_type": "code",
   "execution_count": null,
   "metadata": {},
   "outputs": [],
   "source": [
    "print([0, 1, 2] + [3, 4])"
   ]
  },
  {
   "cell_type": "code",
   "execution_count": null,
   "metadata": {},
   "outputs": [],
   "source": [
    "print([5]*3)"
   ]
  },
  {
   "cell_type": "code",
   "execution_count": null,
   "metadata": {},
   "outputs": [],
   "source": [
    "print([1, 2] * 3)"
   ]
  },
  {
   "cell_type": "markdown",
   "metadata": {},
   "source": [
    "#### Tuplas\n",
    "\n",
    "Las tuplas son como las listas, excepto por su inmutabilidad"
   ]
  },
  {
   "cell_type": "code",
   "execution_count": null,
   "metadata": {},
   "outputs": [],
   "source": [
    "t1 = (0,1)\n",
    "print(t1)\n",
    "t1[0] = 2"
   ]
  },
  {
   "cell_type": "code",
   "execution_count": null,
   "metadata": {},
   "outputs": [],
   "source": [
    "t1.append"
   ]
  },
  {
   "cell_type": "markdown",
   "metadata": {},
   "source": [
    "- La tupla también se puede definir sin paréntesis, si no existe ambigüedad"
   ]
  },
  {
   "cell_type": "code",
   "execution_count": null,
   "metadata": {},
   "outputs": [],
   "source": [
    "t = 'a', 'b', 'c'\n",
    "t"
   ]
  },
  {
   "cell_type": "markdown",
   "metadata": {},
   "source": [
    "- Y se puede usar para asignaciones múltiples"
   ]
  },
  {
   "cell_type": "code",
   "execution_count": null,
   "metadata": {},
   "outputs": [],
   "source": [
    "x1, x2 = 10, 20\n",
    "print(x1)\n",
    "print(x2)"
   ]
  },
  {
   "cell_type": "markdown",
   "metadata": {},
   "source": [
    "<div style=\"background-color:powderblue;\">\n",
    "\n",
    "**EJERCICIO e3_3:** Dada la tupla `t2`...\n",
    "    \n",
    "- Extrae el primer elemento de la segunda tupla interna.\n",
    "- Produce una tupla inversa a `t2`.\n",
    "- Cuenta el número de apariciones de la tupla interna `(0, 1)`."
   ]
  },
  {
   "cell_type": "code",
   "execution_count": null,
   "metadata": {
    "tags": []
   },
   "outputs": [],
   "source": [
    "t2 = ((0, 1), (3, 10), (0, 1), (5, 2))"
   ]
  },
  {
   "cell_type": "markdown",
   "metadata": {},
   "source": [
    "### Ranges\n",
    "\n",
    "Secuencias inmutables y ordenadas de enteros, evaluadas _perezosamente_ (_lazy evaluation_).\n",
    "\n",
    "- Muy usados p. ej. en bucles (`for`)\n",
    "\n",
    "- _Lazy evaluation_ significa que no almacena todos los valores que contiene, sino que los _genera_ sobre la marcha, cuando se le solicitan. \n",
    "\n",
    "  - `range` solo almacena _inicio_, _final_, _paso_.\n",
    "  "
   ]
  },
  {
   "cell_type": "code",
   "execution_count": null,
   "metadata": {},
   "outputs": [],
   "source": [
    "for val in range(5):  print(val)"
   ]
  },
  {
   "cell_type": "code",
   "execution_count": null,
   "metadata": {},
   "outputs": [],
   "source": [
    "r = range(0, 10, 2)\n",
    "print(r)\n",
    "\n",
    "print()\n",
    "for x in r:  print(x)\n",
    "print()\n",
    "\n",
    "print(list(r))"
   ]
  },
  {
   "cell_type": "markdown",
   "metadata": {},
   "source": [
    "<div style=\"background-color:powderblue;\">\n",
    "\n",
    "**EJERCICIO e3_4:** \n",
    "\n",
    "- Crear un _range_ de enteros del 5 al 15 (ambos inclusive)\n",
    "- Crear una lista de enteros del 6 al 14 (inclusive), usando el _range_ definido anteriormente"
   ]
  },
  {
   "cell_type": "markdown",
   "metadata": {},
   "source": [
    "### Sets\n",
    "\n",
    "Los _sets_ son secuencias de elementos con las mismas características que las listas, pero sin repetición ni orden de elementos."
   ]
  },
  {
   "cell_type": "code",
   "execution_count": null,
   "metadata": {},
   "outputs": [],
   "source": [
    "s = {0, 0, 2, 1, 1}\n",
    "print(s)"
   ]
  },
  {
   "cell_type": "code",
   "execution_count": null,
   "metadata": {},
   "outputs": [],
   "source": [
    "s.add(4)\n",
    "s.add(1)\n",
    "print(s)"
   ]
  },
  {
   "cell_type": "code",
   "execution_count": null,
   "metadata": {},
   "outputs": [],
   "source": [
    "print(0 in s, 5 in s)\n",
    "print(len(s))"
   ]
  },
  {
   "cell_type": "markdown",
   "metadata": {},
   "source": [
    "- Los _frozensets_ son como los sets, pero inmutables."
   ]
  },
  {
   "cell_type": "code",
   "execution_count": null,
   "metadata": {},
   "outputs": [],
   "source": [
    "fs = frozenset((3, 4))\n",
    "print(fs)"
   ]
  },
  {
   "cell_type": "code",
   "execution_count": null,
   "metadata": {},
   "outputs": [],
   "source": [
    "fs.add(0)"
   ]
  },
  {
   "cell_type": "markdown",
   "metadata": {},
   "source": [
    "- Los sets y frozensets soportan algunas operaciones de conjuntos:\n",
    "\n",
    "  - `s1 <= s2`: ¿es `s1` un subconjunto de `s2`? (sin =, propio)\n",
    "  - `s1 >= s2`: ¿es `s2` un subconjunto de `s1`?(sin =, propio)\n",
    "  - `s1 | s2`: devuelve la unión de `s1` y `s2`\n",
    "  - `s1 & s2`: devuelve la intersección de `s1` y `s2`\n",
    "  - `s1 - s2`: devuelve los elementos de `s1`y que no están en `s2`\n",
    "  - `s1 ^ s2`: devuelve los elementos que están en `s1`o `s2`, pero no ambos"
   ]
  },
  {
   "cell_type": "code",
   "execution_count": null,
   "metadata": {},
   "outputs": [],
   "source": [
    "s1 = {0, 1}\n",
    "s2 = {1, 3}\n",
    "print(s1 | s2)\n",
    "print(s1 & s2)\n",
    "print(s1 - s2)\n",
    "print(s1 ^ s2)"
   ]
  },
  {
   "cell_type": "markdown",
   "metadata": {},
   "source": [
    "### Strings\n",
    "\n",
    "Cadenas *inmutables* de caracteres\n",
    "\n",
    "Todos los caracteres se almacenan como _puntos de código_ de Unicode (es decir, sin una codificación concreta).\n",
    "\n",
    "- Por defecto, se usa la codificación _UTF-8_ para operaciones de entrada/salida.\n",
    "\n",
    "En su manera más simple (y habitual), se crean con literales, usando `'` o `\"`, de varias formas:"
   ]
  },
  {
   "cell_type": "code",
   "execution_count": null,
   "metadata": {},
   "outputs": [],
   "source": [
    "print('My string')\n",
    "print(\"My string\")"
   ]
  },
  {
   "cell_type": "code",
   "execution_count": null,
   "metadata": {},
   "outputs": [],
   "source": [
    "print('My string with \"double commas\" inside')\n",
    "print(\"My string with 'simple commas' inside\")"
   ]
  },
  {
   "cell_type": "code",
   "execution_count": null,
   "metadata": {
    "tags": []
   },
   "outputs": [],
   "source": [
    "print('''My string with 'simple' and \"double\" commas and \n",
    "line breaks inside''')\n",
    "print(\"\"\"My string with 'simple' and \"double\" commas and \n",
    "line breaks inside\"\"\")"
   ]
  },
  {
   "cell_type": "markdown",
   "metadata": {},
   "source": [
    "- Como sus caracteres pueden recorrerse uno a uno (son _iterables_), los strings también son secuencias.\n",
    "  - Eso implica que aceptan muchos métodos de secuencias, y se pueden usar en un bucle `for`."
   ]
  },
  {
   "cell_type": "code",
   "execution_count": null,
   "metadata": {},
   "outputs": [],
   "source": [
    "v1 = \"Este es mi string\"\n",
    "print(\"Longitud de v1:\", len(v1))"
   ]
  },
  {
   "cell_type": "code",
   "execution_count": null,
   "metadata": {},
   "outputs": [],
   "source": [
    "print('xy'*5)"
   ]
  },
  {
   "cell_type": "code",
   "execution_count": null,
   "metadata": {
    "tags": []
   },
   "outputs": [],
   "source": [
    "v1[8]"
   ]
  },
  {
   "cell_type": "code",
   "execution_count": null,
   "metadata": {},
   "outputs": [],
   "source": [
    "for char in v1[8:]:\n",
    "    print(char, end='__')"
   ]
  },
  {
   "cell_type": "markdown",
   "metadata": {},
   "source": [
    "<br/>\n",
    "\n",
    "<div style=\"background-color:powderblue;\">\n",
    "\n",
    "**EJERCICIO e3_5:** Dado una serie de strings `v = [...]`, de longitudes arbitrarias, escribir cada uno en líneas diferentes, subrayados con una cadena de guiones igual de larga que el string."
   ]
  },
  {
   "cell_type": "code",
   "execution_count": null,
   "metadata": {},
   "outputs": [],
   "source": [
    "s1 = \"String de ejemplo\"\n",
    "s2 = \"Otra frase más larga que la anterior\"\n",
    "v = [s1, s2]\n",
    "# for..."
   ]
  },
  {
   "cell_type": "markdown",
   "metadata": {},
   "source": [
    "- No existe un tipo `char`, solo `str`:"
   ]
  },
  {
   "cell_type": "code",
   "execution_count": null,
   "metadata": {},
   "outputs": [],
   "source": [
    "print(type(s1))\n",
    "print(type('a'))"
   ]
  },
  {
   "cell_type": "markdown",
   "metadata": {},
   "source": [
    "- Son inmutables (no se pueden modificar)\n",
    "- Si se realizan operaciones sobre ellas, se crea un nuevo string"
   ]
  },
  {
   "cell_type": "code",
   "execution_count": null,
   "metadata": {},
   "outputs": [],
   "source": [
    "a = 'juan'\n",
    "b = a.upper()\n",
    "print(a, b)"
   ]
  },
  {
   "cell_type": "markdown",
   "metadata": {},
   "source": [
    "- Como en todos los demás casos, los objetos string soportan varios métodos"
   ]
  },
  {
   "cell_type": "markdown",
   "metadata": {},
   "source": [
    "<div style=\"background-color:powderblue;\">\n",
    "\n",
    "**EJERCICIO e3_6:** \n",
    "- Consultar la ayuda de `str`, y buscar la manera de trocear un string en palabras (separadas por espacios).\n",
    "- Crear un bucle que recorra cada palabra de `frase` y muestre la palabra y su posición en la frase."
   ]
  },
  {
   "cell_type": "code",
   "execution_count": null,
   "metadata": {},
   "outputs": [],
   "source": [
    "frase = 'Este es mi string'\n",
    "# Salida esperada:\n",
    "#  Este --> 1\n",
    "#  es --> 2\n",
    "#  mi --> 3\n",
    "#  string --> 4"
   ]
  }
 ],
 "metadata": {
  "kernelspec": {
   "display_name": "Python 3 (ipykernel)",
   "language": "python",
   "name": "python3"
  },
  "language_info": {
   "codemirror_mode": {
    "name": "ipython",
    "version": 3
   },
   "file_extension": ".py",
   "mimetype": "text/x-python",
   "name": "python",
   "nbconvert_exporter": "python",
   "pygments_lexer": "ipython3",
   "version": "3.11.6"
  }
 },
 "nbformat": 4,
 "nbformat_minor": 4
}
